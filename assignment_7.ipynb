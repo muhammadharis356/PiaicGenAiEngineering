{
  "nbformat": 4,
  "nbformat_minor": 0,
  "metadata": {
    "colab": {
      "provenance": []
    },
    "kernelspec": {
      "name": "python3",
      "display_name": "Python 3"
    },
    "language_info": {
      "name": "python"
    }
  },
  "cells": [
    {
      "cell_type": "code",
      "execution_count": 10,
      "metadata": {
        "colab": {
          "base_uri": "https://localhost:8080/"
        },
        "id": "nkuW37aTZGB_",
        "outputId": "6d445a5b-b46f-4eb6-838d-487ef1f71115"
      },
      "outputs": [
        {
          "output_type": "stream",
          "name": "stdout",
          "text": [
            "3\n",
            "9\n",
            "Odd\n",
            "2\n",
            "4\n",
            "Even\n",
            "2\n",
            "4\n",
            "Even\n",
            "(9, 4, 4)\n",
            "17\n",
            "17 is a prime number\n"
          ]
        }
      ],
      "source": [
        "t = []\n",
        "for i in range(3):\n",
        "    x = int(input())\n",
        "    s = x**2\n",
        "    print(s)\n",
        "    if s % 2 == 0:\n",
        "        print(\"Even\")\n",
        "    else:\n",
        "        print(\"Odd\")\n",
        "    t.append(s)\n",
        "_tuple= tuple(t)\n",
        "print(_tuple)\n",
        "sum = 0\n",
        "for i in t:\n",
        "    sum += i\n",
        "print(sum)\n",
        "\n",
        "def is_prime(num):\n",
        "  if num <= 1:\n",
        "    return False\n",
        "  if num <= 3:\n",
        "    return True\n",
        "  if num % 2 == 0 or num % 3 == 0:\n",
        "    return False\n",
        "  i = 5\n",
        "  while i * i <= num:\n",
        "    if num % i == 0 or num % (i + 2) == 0:\n",
        "      return False\n",
        "    i += 6\n",
        "  return True\n",
        "\n",
        "if is_prime(sum):\n",
        "  print(sum, \"is a prime number\")\n",
        "else:\n",
        "  print(sum, \"is not a prime number\")"
      ]
    }
  ]
}