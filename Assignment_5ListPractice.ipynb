{
  "nbformat": 4,
  "nbformat_minor": 0,
  "metadata": {
    "colab": {
      "provenance": []
    },
    "kernelspec": {
      "name": "python3",
      "display_name": "Python 3"
    },
    "language_info": {
      "name": "python"
    }
  },
  "cells": [
    {
      "cell_type": "code",
      "execution_count": 1,
      "metadata": {
        "colab": {
          "base_uri": "https://localhost:8080/"
        },
        "id": "JBeDMTwNBQUl",
        "outputId": "e5387f22-5a24-48f2-afa0-1d1f2d14a160"
      },
      "outputs": [
        {
          "output_type": "stream",
          "name": "stdout",
          "text": [
            "Alice\n",
            "Bob\n",
            "Charlie\n"
          ]
        }
      ],
      "source": [
        "names = [\"Alice\", \"Bob\", \"Charlie\"]\n",
        "print(names[0])\n",
        "print(names[1])\n",
        "print(names[2])\n"
      ]
    },
    {
      "cell_type": "code",
      "source": [
        "names = [\"Alice\", \"Bob\", \"Charlie\"]\n",
        "print(\"Hello \" + names[0] + \", how are you?\")\n",
        "print(\"Hello \" + names[1] + \", how are you?\")\n",
        "print(\"Hello \" + names[2] + \", how are you?\")\n"
      ],
      "metadata": {
        "colab": {
          "base_uri": "https://localhost:8080/"
        },
        "id": "7sPSFG0DBWQK",
        "outputId": "5e229776-7006-4b63-c967-615a41d6534e"
      },
      "execution_count": 2,
      "outputs": [
        {
          "output_type": "stream",
          "name": "stdout",
          "text": [
            "Hello Alice, how are you?\n",
            "Hello Bob, how are you?\n",
            "Hello Charlie, how are you?\n"
          ]
        }
      ]
    },
    {
      "cell_type": "code",
      "source": [
        "cars = [\"Honda Civic\", \"Toyota Corolla\", \"Ford Mustang\"]\n",
        "print(\"I would like to own a \" + cars[0] + \".\")\n",
        "print(\"I would like to own a \" + cars[1] + \".\")\n",
        "print(\"I would like to own a \" + cars[2] + \".\")"
      ],
      "metadata": {
        "colab": {
          "base_uri": "https://localhost:8080/"
        },
        "id": "O2B9GXM3BhuL",
        "outputId": "1e20c065-f287-4dee-fb46-2b68126af79b"
      },
      "execution_count": 3,
      "outputs": [
        {
          "output_type": "stream",
          "name": "stdout",
          "text": [
            "I would like to own a Honda Civic.\n",
            "I would like to own a Toyota Corolla.\n",
            "I would like to own a Ford Mustang.\n"
          ]
        }
      ]
    },
    {
      "cell_type": "code",
      "source": [
        "guests = [\"Albert Einstein\", \"Marie Curie\", \"Leonardo da Vinci\"]\n",
        "for guest in guests:\n",
        "    print(f\"Dear {guest}, you are invited to dinner! Please join us.\")"
      ],
      "metadata": {
        "colab": {
          "base_uri": "https://localhost:8080/"
        },
        "id": "TxVRdkyiB66s",
        "outputId": "d3228361-616c-4c67-82a6-3e48bd399a7d"
      },
      "execution_count": 4,
      "outputs": [
        {
          "output_type": "stream",
          "name": "stdout",
          "text": [
            "Dear Albert Einstein, you are invited to dinner! Please join us.\n",
            "Dear Marie Curie, you are invited to dinner! Please join us.\n",
            "Dear Leonardo da Vinci, you are invited to dinner! Please join us.\n"
          ]
        }
      ]
    },
    {
      "cell_type": "code",
      "source": [
        "guests = [\"Albert Einstein\", \"Marie Curie\", \"Leonardo da Vinci\"]\n",
        "print(f\"Unfortunately, {guests[2]} can't make it.\")\n",
        "guests[2] = \"Nikola Tesla\"\n",
        "for guest in guests:\n",
        "    print(f\"Dear {guest}, you are invited to dinner! Please join us.\")"
      ],
      "metadata": {
        "colab": {
          "base_uri": "https://localhost:8080/"
        },
        "id": "O-AZ4DMFCJcr",
        "outputId": "1c3150bf-dea7-4032-e300-e6edb1af08f5"
      },
      "execution_count": 5,
      "outputs": [
        {
          "output_type": "stream",
          "name": "stdout",
          "text": [
            "Unfortunately, Leonardo da Vinci can't make it.\n",
            "Dear Albert Einstein, you are invited to dinner! Please join us.\n",
            "Dear Marie Curie, you are invited to dinner! Please join us.\n",
            "Dear Nikola Tesla, you are invited to dinner! Please join us.\n"
          ]
        }
      ]
    },
    {
      "cell_type": "code",
      "source": [
        "guests = [\"Albert Einstein\", \"Marie Curie\", \"Nikola Tesla\"]\n",
        "print(\"We found a bigger table!\")\n",
        "guests.insert(0, \"Stephen Hawking\")\n",
        "guests.insert(2, \"Marie Curie\")\n",
        "guests.append(\"Isaac Newton\")\n",
        "for guest in guests:\n",
        "    print(f\"Dear {guest}, you are invited to dinner! Please join us.\")"
      ],
      "metadata": {
        "colab": {
          "base_uri": "https://localhost:8080/"
        },
        "id": "tCamtUkQCMQj",
        "outputId": "a62466fb-496a-4a8c-ec95-8097210e4a17"
      },
      "execution_count": 6,
      "outputs": [
        {
          "output_type": "stream",
          "name": "stdout",
          "text": [
            "We found a bigger table!\n",
            "Dear Stephen Hawking, you are invited to dinner! Please join us.\n",
            "Dear Albert Einstein, you are invited to dinner! Please join us.\n",
            "Dear Marie Curie, you are invited to dinner! Please join us.\n",
            "Dear Marie Curie, you are invited to dinner! Please join us.\n",
            "Dear Nikola Tesla, you are invited to dinner! Please join us.\n",
            "Dear Isaac Newton, you are invited to dinner! Please join us.\n"
          ]
        }
      ]
    },
    {
      "cell_type": "code",
      "source": [
        "guests = [\"Stephen Hawking\", \"Albert Einstein\", \"Marie Curie\", \"Nikola Tesla\", \"Isaac Newton\"]\n",
        "print(\"Sorry, we can only invite two people for dinner.\")\n",
        "while len(guests) > 2:\n",
        "    guest = guests.pop()\n",
        "    print(f\"Sorry, {guest}, you're not invited this time.\")\n",
        "for guest in guests:\n",
        "    print(f\"Dear {guest}, you're still invited to dinner! Please join us.\")\n",
        "del guests[:]\n",
        "print(guests)"
      ],
      "metadata": {
        "colab": {
          "base_uri": "https://localhost:8080/"
        },
        "id": "v6mgHv6jCQ4w",
        "outputId": "78d1f547-d6a7-43e2-8693-7b28947be133"
      },
      "execution_count": 7,
      "outputs": [
        {
          "output_type": "stream",
          "name": "stdout",
          "text": [
            "Sorry, we can only invite two people for dinner.\n",
            "Sorry, Isaac Newton, you're not invited this time.\n",
            "Sorry, Nikola Tesla, you're not invited this time.\n",
            "Sorry, Marie Curie, you're not invited this time.\n",
            "Dear Stephen Hawking, you're still invited to dinner! Please join us.\n",
            "Dear Albert Einstein, you're still invited to dinner! Please join us.\n",
            "[]\n"
          ]
        }
      ]
    },
    {
      "cell_type": "code",
      "source": [
        "places = [\"Tokyo\", \"Paris\", \"Rome\", \"New York\", \"Sydney\"]\n",
        "print(places)\n",
        "print(sorted(places))\n",
        "print(places)\n",
        "print(sorted(places, reverse=True))\n",
        "print(places)\n",
        "places.reverse()\n",
        "print(places)\n",
        "places.reverse()\n",
        "print(places)\n",
        "places.sort()\n",
        "print(places)\n",
        "places.sort(reverse=True)\n",
        "print(places)"
      ],
      "metadata": {
        "colab": {
          "base_uri": "https://localhost:8080/"
        },
        "id": "DYXGjlZ4CUQP",
        "outputId": "f37b8ba3-fc9f-46d9-c56b-27bd1ff0a709"
      },
      "execution_count": 8,
      "outputs": [
        {
          "output_type": "stream",
          "name": "stdout",
          "text": [
            "['Tokyo', 'Paris', 'Rome', 'New York', 'Sydney']\n",
            "['New York', 'Paris', 'Rome', 'Sydney', 'Tokyo']\n",
            "['Tokyo', 'Paris', 'Rome', 'New York', 'Sydney']\n",
            "['Tokyo', 'Sydney', 'Rome', 'Paris', 'New York']\n",
            "['Tokyo', 'Paris', 'Rome', 'New York', 'Sydney']\n",
            "['Sydney', 'New York', 'Rome', 'Paris', 'Tokyo']\n",
            "['Tokyo', 'Paris', 'Rome', 'New York', 'Sydney']\n",
            "['New York', 'Paris', 'Rome', 'Sydney', 'Tokyo']\n",
            "['Tokyo', 'Sydney', 'Rome', 'Paris', 'New York']\n"
          ]
        }
      ]
    },
    {
      "cell_type": "code",
      "source": [
        "mountains = [\"Mount Everest\", \"K2\", \"Kangchenjunga\", \"Lhotse\", \"Makalu\"]\n",
        "print(mountains)\n",
        "print(mountains[0])\n",
        "print(mountains[-1])\n",
        "print(f\"There are {len(mountains)} mountains in the list.\")\n",
        "mountains.append(\"Cho Oyu\")\n",
        "print(mountains)\n",
        "mountains.insert(2, \"Nanga Parbat\")\n",
        "print(mountains)\n",
        "del mountains[0]\n",
        "print(mountains)\n",
        "mountains.remove(\"Lhotse\")\n",
        "print(mountains)\n",
        "print(mountains.pop(1))\n",
        "print(mountains)\n",
        "mountains.reverse()\n",
        "print(mountains)\n",
        "mountains.sort()\n",
        "print(mountains)\n",
        "mountains.sort(reverse=True)\n",
        "print(mountains)"
      ],
      "metadata": {
        "colab": {
          "base_uri": "https://localhost:8080/"
        },
        "id": "3Au50ILeCdeS",
        "outputId": "981d5350-57c5-4e86-d993-2c4714b2078c"
      },
      "execution_count": 9,
      "outputs": [
        {
          "output_type": "stream",
          "name": "stdout",
          "text": [
            "['Mount Everest', 'K2', 'Kangchenjunga', 'Lhotse', 'Makalu']\n",
            "Mount Everest\n",
            "Makalu\n",
            "There are 5 mountains in the list.\n",
            "['Mount Everest', 'K2', 'Kangchenjunga', 'Lhotse', 'Makalu', 'Cho Oyu']\n",
            "['Mount Everest', 'K2', 'Nanga Parbat', 'Kangchenjunga', 'Lhotse', 'Makalu', 'Cho Oyu']\n",
            "['K2', 'Nanga Parbat', 'Kangchenjunga', 'Lhotse', 'Makalu', 'Cho Oyu']\n",
            "['K2', 'Nanga Parbat', 'Kangchenjunga', 'Makalu', 'Cho Oyu']\n",
            "Nanga Parbat\n",
            "['K2', 'Kangchenjunga', 'Makalu', 'Cho Oyu']\n",
            "['Cho Oyu', 'Makalu', 'Kangchenjunga', 'K2']\n",
            "['Cho Oyu', 'K2', 'Kangchenjunga', 'Makalu']\n",
            "['Makalu', 'Kangchenjunga', 'K2', 'Cho Oyu']\n"
          ]
        }
      ]
    },
    {
      "cell_type": "code",
      "source": [
        "print(mountains[3])"
      ],
      "metadata": {
        "colab": {
          "base_uri": "https://localhost:8080/"
        },
        "id": "y6tz8lLRCq6L",
        "outputId": "e85d3bc5-f961-4285-aba4-10bc3203a7b6"
      },
      "execution_count": 10,
      "outputs": [
        {
          "output_type": "stream",
          "name": "stdout",
          "text": [
            "Cho Oyu\n"
          ]
        }
      ]
    }
  ]
}
