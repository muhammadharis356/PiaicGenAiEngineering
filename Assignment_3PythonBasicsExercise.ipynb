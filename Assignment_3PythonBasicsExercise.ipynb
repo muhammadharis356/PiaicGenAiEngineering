{
  "nbformat": 4,
  "nbformat_minor": 0,
  "metadata": {
    "colab": {
      "provenance": []
    },
    "kernelspec": {
      "name": "python3",
      "display_name": "Python 3"
    },
    "language_info": {
      "name": "python"
    }
  },
  "cells": [
    {
      "cell_type": "code",
      "execution_count": 6,
      "metadata": {
        "colab": {
          "base_uri": "https://localhost:8080/"
        },
        "id": "P7O60zdMUZ_F",
        "outputId": "b929f610-faac-4006-d095-c72dae9aef9e"
      },
      "outputs": [
        {
          "output_type": "stream",
          "name": "stdout",
          "text": [
            "How are you?\n",
            "Would you like to learn some python today?\n",
            "Hello Eric, Would you like to learn some python today?\n",
            "eric harder\n",
            "ERIC HARDER\n",
            "Eric Harder\n",
            "Albert Einstein once said, \"A person who never made a mistake never tried anything new.\"\n",
            "Albert Einstein once said, \"A person who never made a mistake never tried anything new.\"\n",
            "Albert Einstein\n",
            "\n",
            "\tAlbert Einstein\n",
            "Albert Einstein\n",
            "18\n",
            "What is name?Max\n",
            "Max\n",
            "100\n",
            "50\n",
            "Manchestor\n",
            "Python Programming\n",
            "python programming\n",
            "PYTHON PROGRAMMING\n",
            "Current Temperature is 25\n",
            "Golden leaves in gentle breeze,\n",
            "Dancing shadows, swaying trees.\n",
            "Crimson sunset, paints the sky,\n",
            "Nature’s beauty, a sweet lullaby.\n"
          ]
        }
      ],
      "source": [
        "a= \"How are you?\"\n",
        "print(a)\n",
        "a= \"Would you like to learn some python today?\"\n",
        "print(a)\n",
        "print(\"Hello Eric, \"+a)\n",
        "a=\"Eric Harder\"\n",
        "print(a.lower())\n",
        "print(a.upper())\n",
        "print(a.title())\n",
        "print(\"Albert Einstein once said, \"+'\"A person who never made a mistake never tried anything new.\"')\n",
        "famous_person= \"Albert Einstein\"\n",
        "message= '\"A person who never made a mistake never tried anything new.\"'\n",
        "print(famous_person+\" once said, \"+message)\n",
        "a= \"\\tAlbert Einstein\\n\"\n",
        "print(a.lstrip())\n",
        "print(a.rstrip())\n",
        "print(a.strip())\n",
        "a=5\n",
        "b=6\n",
        "c=7\n",
        "print(a+b+c)\n",
        "pet_name=\"Buddy\"\n",
        "pet_name = input(\"What is name?\")\n",
        "print(pet_name)\n",
        "score = 100\n",
        "print(score)\n",
        "score = 50\n",
        "print(score)\n",
        "city = \"Manchestor\"\n",
        "print(city)\n",
        "text = \"python programming\"\n",
        "print(text.title())\n",
        "text = \"pYthoN ProGraMMing\"\n",
        "print(text.lower())\n",
        "print(text.upper())\n",
        "temperature = 25\n",
        "print(f\"Current Temperature is {temperature}\")\n",
        "print('''Golden leaves in gentle breeze,\n",
        "Dancing shadows, swaying trees.\n",
        "Crimson sunset, paints the sky,\n",
        "Nature’s beauty, a sweet lullaby.''')"
      ]
    },
    {
      "cell_type": "code",
      "source": [
        "#observe name error\n",
        "name = \"Sunshine\"\n",
        "print(nme)"
      ],
      "metadata": {
        "colab": {
          "base_uri": "https://localhost:8080/",
          "height": 176
        },
        "id": "L77A7e1iW8k6",
        "outputId": "a73fb5c9-8c44-4488-f8ad-fbbfb28465c7"
      },
      "execution_count": 4,
      "outputs": [
        {
          "output_type": "error",
          "ename": "NameError",
          "evalue": "name 'nme' is not defined",
          "traceback": [
            "\u001b[0;31m---------------------------------------------------------------------------\u001b[0m",
            "\u001b[0;31mNameError\u001b[0m                                 Traceback (most recent call last)",
            "\u001b[0;32m<ipython-input-4-27366ea9e474>\u001b[0m in \u001b[0;36m<cell line: 3>\u001b[0;34m()\u001b[0m\n\u001b[1;32m      1\u001b[0m \u001b[0;31m#observe name error\u001b[0m\u001b[0;34m\u001b[0m\u001b[0;34m\u001b[0m\u001b[0m\n\u001b[1;32m      2\u001b[0m \u001b[0mname\u001b[0m \u001b[0;34m=\u001b[0m \u001b[0;34m\"Sunshine\"\u001b[0m\u001b[0;34m\u001b[0m\u001b[0;34m\u001b[0m\u001b[0m\n\u001b[0;32m----> 3\u001b[0;31m \u001b[0mprint\u001b[0m\u001b[0;34m(\u001b[0m\u001b[0mnme\u001b[0m\u001b[0;34m)\u001b[0m\u001b[0;34m\u001b[0m\u001b[0;34m\u001b[0m\u001b[0m\n\u001b[0m",
            "\u001b[0;31mNameError\u001b[0m: name 'nme' is not defined"
          ]
        }
      ]
    }
  ]
}